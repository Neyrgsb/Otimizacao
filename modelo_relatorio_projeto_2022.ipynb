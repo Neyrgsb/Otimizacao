{
 "cells": [
  {
   "cell_type": "markdown",
   "metadata": {},
   "source": [
    "### COM361 &mdash; Introdução a Otimização &mdash; 2022, Prof. Amit ###\n",
    "\n",
    "# 2. Estratégia de controle ótimo para diminuir espalhamento de fake news em mídia social [Capítulo 15 de ref. 1]\t\t\t\t\t\t #\n",
    "\n",
    "#### Julia Vaisburd Xexéo  (julia.xexeo@poli.ufrj.br), Aluno2 (email)\n",
    "\n",
    "*****\n",
    "\n",
    "### Índice\n",
    "\n",
    "1. [Introdução](#1.-Introdução)\n",
    "1. [Modelo Matemático] (#2.-Modelo Mathemático)\n",
    "1. [Solução](#3.-Solução)\n",
    "1. [Resultados e Discussão](#4.-Resultados-e-discussão)\n",
    "  1. [Subseção Opcional](#4.A.-Acrescente-subseções-se-necessário)\n",
    "1. [Conclusão](#5.-Conclusão)"
   ]
  },
  {
   "cell_type": "markdown",
   "metadata": {
    "collapsed": true
   },
   "source": [
    "## 1. Introdução ##\n",
    "\n",
    "começar com a salt epidemic china\n",
    "\n",
    "Nos últimos anos, com o advento das redes sociais e sua disseminação, o espalhamento de fake news, notícias falsas, aumentou e foi potencializado pela rapidez desses novos meios de comunicação. Eventos como as eleições americanas em 2016, Brasileiras em 2018 e a epidemia de Covid 19, foram marcados pelo alto número de noticias falsas disseminadas nos meios de comunicação.\n",
    "\n",
    "O nosso projeto tem como objetivo buscar o controle ótimo e preditivo de um modelo de espalhamento de fake news nas redes sociais, proposto no livro \n",
    "\n",
    "O modelo que iremos utilizar é uma combinação do   modelo ISR para dissemiçaõ de informações nas redes sociais, que considera a existencia de Ignornorantes (I), Spreadersm, recovered, com um modelo de controle otimo. \n",
    "\n",
    "A partir da perspectiva de controle sera definida a função objetiva e a estratégia de controle ótimo\n",
    "\n",
    "\n",
    "No cenário que estamos considerando as noticias falsas são disseminadas não apenas em canais duvidosos, mas também em canais de noticias confiaveis da internet. Além disso, o governo está ciente que isso é uma possível ameaça e irá tomar medidas para conveerter e previnir essa epidemia de falsas informações, antes que vire um panic\n",
    "\n",
    "\n",
    "\n",
    ". The fake news of this type is traditionally fast\n",
    "spreading and the damage from it will be done in short order if the information\n",
    "is not quelled. Obviously, this potential information epidemic has already been\n",
    "spreading around the population before the government became aware of its\n",
    "growing popularity.\n",
    "\n",
    "\n",
    "Por sorte, o governo tem acesso a modernas ferramentas de alerta e canais de distribuição direta de noticias, e é importante ressaltar que não importa para o governo se a noticia é realmente falsa ou verdadeira, apenas se ele quer diminuir ou aumentar o espalhamento da mesma. \n",
    "\n",
    "A partir desse cenário, será buscado o controle optimo e preditivo e proposto uma formulação de problema.\n",
    "\n",
    "\n",
    "Luckily, the government has access to modern emergency alert information\n",
    "and official and direct news distribution over the internet. “Tweets”, live\n",
    "YouTube press conferences, and cell phone alerts are all options of quick\n",
    "communication to help stifle the false news. Note that in many ways, it does\n",
    "not matter if the news is real or fake or if the government wishes to spread\n",
    "or diminish the news. The core formulation and strategy of control here are\n",
    "analogous.\n",
    "\n",
    "O nosso cenário considera que as fake news estão sendo espalhadas em canais confiaveis e não confiaveis.\n",
    "\n",
    "palavras chaves: \n",
    "epidemia de informações\n",
    "estrategias para diminuir\n",
    "\n",
    "\n",
    "As primeiras frases devem dar um panorama geral do projeto. Em seguida, uma descrição mais detalhada do problema que será resolvido, uma breve história do surgimento do problema (com [citations](https://en.wikipedia.org/wiki/Citation)) que será abordado, porque é importante e interessante e quaisquer outros fatos correlatos que queira expor. A fonte dos dados utilizados deve ser explicitada (pesquisa? internet? gerados sinteticamente?). Também deve ser feito um esboço do restante do relatório.\n",
    "\n",
    "\n",
    "Esta seção deve ter entre 300 e 600 palavras, e **deve ser acessível a leigos** (não deve ser suposto que o leitor desta seção cursou esta disciplina (COM361)). Podem incluir figuras se acharem convenientes:\n",
    "\n",
    "![fixit flowchart][flow]\n",
    "\n",
    "Para mais ajuda no uso de Markdown, veja [este link](https://github.com/adam-p/markdown-here/wiki/Markdown-Cheatsheet).\n",
    "\n",
    "[flow]: https://s-media-cache-ak0.pinimg.com/736x/f5/75/c5/f575c53b93724808c6f0211890a54900.jpg"
   ]
  },
  {
   "cell_type": "markdown",
   "metadata": {
    "collapsed": true
   },
   "source": [
    "## 2. Modelo matemático ##\n",
    "\n",
    "\n",
    "O objetivo da nossa modelagem é previnir de melhor forma o espalhamento de fake news nas redes sociais, levaremos em consideração o conceito de Herd Immunity, no qual \n",
    "\n",
    "\n",
    "\n",
    "\n",
    "Esta seção deve conter uma discussão das hipóteses de modelagem feitas no problema (conforme a origem do problema: física? economia? redes sociais? ...). Explique a escolha das variáveis de decisão, as restrições e a função objetivo. Finalmente, mostre o problema de otimização escrite em forma padrão. Discute o tipo de modelo adotado (LP, QP, MIP, etc.). Equações devem ser formatadas em $\\LaTeX$ dentro do notebook Julia. Nesta seção, pode supor que **o leitor está familiarizado com a matéria\"**.\n",
    "\n",
    "Eis um exemplo de uma equação:\n",
    "\n",
    "$$\n",
    "\\begin{bmatrix}\n",
    "  1 & 2 \\\\\n",
    "  3 & 4\n",
    "\\end{bmatrix}\n",
    "\\begin{bmatrix} x \\\\ y \\end{bmatrix} =\n",
    "\\begin{bmatrix} 5 \\\\ 6 \\end{bmatrix}\n",
    "$$\n",
    "\n",
    "Aqui está um exemplo de um problema de otimização no formato padrão:\n",
    "\n",
    "$$\n",
    "\\begin{aligned}\n",
    "\\underset{x \\in \\mathbb{R^n}}{\\text{maximize}}\\qquad& f_0(x) \\\\\n",
    "\\text{sujeito a:}\\qquad& f_i(x) \\le 0 && i=1,\\dots,m\\\\\n",
    "& h_j(x) = 0 && j=1,\\dots,r\n",
    "\\end{aligned}\n",
    "$$\n",
    "\n",
    "Para algumas dicas rápidas sobre a utilizção de $\\LaTeX$, veja [este cheat sheet](http://users.dickinson.edu/~richesod/latex/latexcheatsheet.pdf)."
   ]
  },
  {
   "cell_type": "markdown",
   "metadata": {
    "collapsed": true
   },
   "source": [
    "## 3. Solução ##\n",
    "\n",
    "Nesta seção, coloque seu código em Julia + JuMP e resolva o problema proposto. Seu código deve ser limpo (não macarrônico!), de fácil leitura, bem comentado e anotado e deve compilar sem erros em Julia 1.x, x$\\geq 1$! Não valem códigos em outras linguagens. **Vou rodar seu código para avaliar seu projeto**. Sugiro a utilização de múltiplos blocos de códigos separados por blocos de texto (células Markdown) explicando as várias partes da sua solução. Sugiro também a resolução de várias versões do seu problema, com modelos e hipóteses diferentes.\n",
    "\n",
    "É permitido chamar pacotes externos, mas evite a utilização de bibliotecas exóticas (pois, em geral, não rodam em todas as versões de Julia, e terei que instalar a mesma versão que você usou, ou rodar na plataforma Google Colab, que gostaria de evitar)."
   ]
  },
  {
   "cell_type": "code",
   "execution_count": 3,
   "metadata": {},
   "outputs": [
    {
     "name": "stdout",
     "output_type": "stream",
     "text": [
      "  0.000630 seconds (327 allocations: 23.641 KiB)\n",
      "  0.001435 seconds (277 allocations: 18.609 KiB)\n",
      "  0.000940 seconds (277 allocations: 18.609 KiB)\n",
      "  0.012398 seconds (33.14 k allocations: 1.731 MiB)\n",
      "  0.000553 seconds (278 allocations: 18.656 KiB)\n",
      "  0.140461 seconds (246.71 k allocations: 14.548 MiB, 12.64% compilation time)\n",
      "  0.026476 seconds (68.72 k allocations: 5.399 MiB, 27.64% compilation time)\n",
      "  0.008233 seconds (11.68 k allocations: 712.133 KiB)\n"
     ]
    }
   ],
   "source": [
    "@time using Clp\n",
    "@time using JuMP\n",
    "@time using Plots\n",
    "@time using Ipopt\n",
    "@time using LinearAlgebra\n",
    "@time using ImplicitEquations\n",
    "@time using Mosek\n",
    "@time using  MosekTools"
   ]
  },
  {
   "cell_type": "code",
   "execution_count": 17,
   "metadata": {},
   "outputs": [
    {
     "ename": "LoadError",
     "evalue": "syntax: invalid identifier name \".\"",
     "output_type": "error",
     "traceback": [
      "syntax: invalid identifier name \".\"",
      "",
      "Stacktrace:",
      " [1] top-level scope",
      "   @ In[17]:24",
      " [2] eval",
      "   @ .\\boot.jl:373 [inlined]",
      " [3] include_string(mapexpr::typeof(REPL.softscope), mod::Module, code::String, filename::String)",
      "   @ Base .\\loading.jl:1196"
     ]
    }
   ],
   "source": [
    "b = 1 #colocar assim?\n",
    "beta = 0.3\n",
    "gama = 1\n",
    "k = 50\n",
    "\n",
    "T = [ i for i=1:k ]\n",
    "\n",
    "#m = Model(with_optimizer(Clp.Optimizer))\n",
    "m = Model(with_optimizer(Ipopt.Optimizer))\n",
    "#variaveis\n",
    "@variable(m, x_1[1:T[k]])  \n",
    "@variable(m, x_2[1:T[k]])  \n",
    "@variable(m, u[1:T[k]])\n",
    "\n",
    "\n",
    "#restrições\n",
    "for k in 1:T[k] \n",
    "    @constraint(m, x_1[k] >= 0)\n",
    "    @constraint(m, x_2[k] >= 0)\n",
    "    @constraint(m, u[k] >= 0)\n",
    "end\n",
    "\n",
    "for k in 1:T[k]-1 \n",
    "    @NLconstraint(m, x_1[k+1] == x_1[k] - beta * x_1[k] * x_2[k] - b * u[k] * x_1[k])\n",
    "    @NLconstraint(m, x_2[k+1] == x_2[k] + beta * x_1[k] * x_2[k] - gama * x_2[k] * x_2[k])\n",
    "    @constraint(m, x_1[k] + x_2[k] <= (beta / gama)) \n",
    "end\n",
    "\n",
    "@objective(m, Min, sum((x_1[k] + x_2[k] - (beta/ gama)).^2)) #descobrir se aqui coloca sum\n",
    "\n",
    "optimize!(m)\n",
    "\n",
    "#print(m)\n",
    "println(\"x1 ignorantes:\",JuMP.value.(x_1))\n",
    "println(\"x_2 spreaders\",JuMP.value.(x_2))\n",
    "println(\"u\",JuMP.value.(u))\n",
    "\n",
    "# plot the lines.\n",
    "#plot( ,x_1, color=\"r\")\n",
    "#plot(1:50 ,x_2, color=\"g\")\n",
    "#plot(1:50 ,u, color=\"b\")\n",
    "\n",
    "#plot(1:50, hcat(x_1, x_2, u), seriestype=:scatter, label=[\"x_1\" \"x_2\" \"u\"])"
   ]
  },
  {
   "cell_type": "markdown",
   "metadata": {},
   "source": [
    "**Tenha certeza de que seu código compila corretamente! Rodarei seu código!**"
   ]
  },
  {
   "cell_type": "markdown",
   "metadata": {
    "collapsed": true
   },
   "source": [
    "## 4. Resultados e discussão ##\n",
    "\n",
    "Neste seção, os resultados obtidos serão exibidos e discutidos. Mostre figuras, gráficos, imagens, curvas de compromisso, e o que mais puder melhor ilustrar seus resultados. A discussão deverá explicar o que significam os resultados e como interpretá-los. As limitações da sua abordagem/modelo também devem ser colocadas, bem como uma análise da sensibilidade dos resultados em relação às hipóteses feitas.\n",
    "\n",
    "\n",
    "Utilize plots (veja exemplos  `PyPlot` [aqui](https://gist.github.com/gizmaa/7214002))\n",
    "\n",
    "Aqui está um exemplo de uma tabela (em Markdown):\n",
    "\n",
    "| Tabelas        | São           | Boas  |\n",
    "| ------------- |:-------------:| -----:|\n",
    "| col 3 é      | alinhado à direita |\\$1600 |\n",
    "| col 2 é      | centrado      |  \\$12 |\n",
    "| texto | também serve      |   \\$1 |\n",
    "\n",
    "### 4.A. Subseções devem ser utilizadas para organizar seu texto.\n",
    "\n",
    "#### 4.A.a. ou até subsubseções."
   ]
  },
  {
   "cell_type": "markdown",
   "metadata": {
    "collapsed": true
   },
   "source": [
    "## 5. Conclusão ##\n",
    "\n",
    "Faça um resumo do que encontrou e dos seus resultados, e fale de pelo menos uma direção na qual  seu trabalho pode ser desenvolvido no futuro, algo que poderia ser interessante em decorrência do seu projeto.\n"
   ]
  }
 ],
 "metadata": {
  "@webio": {
   "lastCommId": null,
   "lastKernelId": null
  },
  "kernelspec": {
   "display_name": "Julia 1.7.0",
   "language": "julia",
   "name": "julia-1.7"
  },
  "language_info": {
   "file_extension": ".jl",
   "mimetype": "application/julia",
   "name": "julia",
   "version": "1.7.0"
  }
 },
 "nbformat": 4,
 "nbformat_minor": 1
}
